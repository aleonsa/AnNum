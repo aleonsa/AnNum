{
 "cells": [
  {
   "attachments": {
    "b424107e-68cb-48f9-8425-d713d8282988.png": {
     "image/png": "[encoded data removed]"
    }
   },
   "cell_type": "markdown",
   "metadata": {},
   "source": [
    "![image.png](attachment:b424107e-68cb-48f9-8425-d713d8282988.png)"
   ]
  },
  {
   "cell_type": "markdown",
   "metadata": {},
   "source": [
    "El número de condición se calcula como:\n",
    "$$ \\frac{\\tilde{x} f'(\\tilde{x})}{f(\\tilde{x})} $$"
   ]
  },
  {
   "cell_type": "markdown",
   "metadata": {},
   "source": [
    "Obteniendo $f'(\\tilde{x})$:\n",
    "\n",
    "$$ \\frac{d}{dx}\\left ( \\frac{e^{x}-1}{x} \\right ) = \\frac{xe^{x}-e^{x}+1}{x²}$$\n",
    "\n",
    "Para $\\tilde{x} = 0.001$ :\n",
    "\n"
   ]
  },
  {
   "cell_type": "code",
   "execution_count": 1,
   "metadata": {},
   "outputs": [],
   "source": [
    "import numpy as np"
   ]
  },
  {
   "cell_type": "markdown",
   "metadata": {},
   "source": [
    "$$f(\\tilde{x}) = f(0.001) = \\frac{e^{0.001}-1}{0.001}$$"
   ]
  },
  {
   "cell_type": "code",
   "execution_count": 6,
   "metadata": {},
   "outputs": [
    {
     "name": "stdout",
     "output_type": "stream",
     "text": [
      "1.0005001667083846\n"
     ]
    }
   ],
   "source": [
    "f_x = (np.exp(0.001)-1)/(0.001)\n",
    "print(f_x)"
   ]
  },
  {
   "cell_type": "markdown",
   "metadata": {},
   "source": [
    "$$f'(\\tilde{x}) = f'(0.001) = \\frac{0.001e^{0.001}-e^{0.001}+1}{0.001²}$$"
   ]
  },
  {
   "cell_type": "code",
   "execution_count": 8,
   "metadata": {},
   "outputs": [
    {
     "name": "stdout",
     "output_type": "stream",
     "text": [
      "0.5003334583308927\n"
     ]
    }
   ],
   "source": [
    "df_x = (0.001*np.exp(0.001)-np.exp(0.001)+1)/(0.001**2)\n",
    "print(df_x)"
   ]
  },
  {
   "cell_type": "markdown",
   "metadata": {},
   "source": [
    "$$ N = \\frac{\\tilde{x} f'(\\tilde{x})}{f(\\tilde{x})} =  \\frac{(0.001) 0.5003...}{1.0005...}$$"
   ]
  },
  {
   "cell_type": "code",
   "execution_count": 9,
   "metadata": {},
   "outputs": [
    {
     "name": "stdout",
     "output_type": "stream",
     "text": [
      "0.00050008333329616\n"
     ]
    }
   ],
   "source": [
    "n = (0.001*df_x)/f_x\n",
    "print (n)"
   ]
  },
  {
   "cell_type": "markdown",
   "metadata": {},
   "source": [
    "$$N = 5\\times10^{-4}$$"
   ]
  },
  {
   "cell_type": "markdown",
   "metadata": {},
   "source": [
    "Apreciamos que el valor del número condición es menor que uno, esto señala que el error relativo de la función se atenúa respecto al error relativo de $x$."
   ]
  },
  {
   "cell_type": "code",
   "execution_count": null,
   "metadata": {},
   "outputs": [],
   "source": []
  }
 ],
 "metadata": {
  "kernelspec": {
   "display_name": "Python 3",
   "language": "python",
   "name": "python3"
  },
  "language_info": {
   "codemirror_mode": {
    "name": "ipython",
    "version": 3
   },
   "file_extension": ".py",
   "mimetype": "text/x-python",
   "name": "python",
   "nbconvert_exporter": "python",
   "pygments_lexer": "ipython3",
   "version": "3.8.6"
  }
 },
 "nbformat": 4,
 "nbformat_minor": 4
}
